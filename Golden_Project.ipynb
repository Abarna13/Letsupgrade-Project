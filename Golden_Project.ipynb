{
  "nbformat": 4,
  "nbformat_minor": 0,
  "metadata": {
    "colab": {
      "name": "Golden Project.ipynb",
      "provenance": [],
      "collapsed_sections": [],
      "authorship_tag": "ABX9TyOphC2MjDrI610bAvr1ypxo",
      "include_colab_link": true
    },
    "kernelspec": {
      "name": "python3",
      "display_name": "Python 3"
    }
  },
  "cells": [
    {
      "cell_type": "markdown",
      "metadata": {
        "id": "view-in-github",
        "colab_type": "text"
      },
      "source": [
        "<a href=\"https://colab.research.google.com/github/Abarna13/Letsupgrade-Projects/blob/main/Golden_Project.ipynb\" target=\"_parent\"><img src=\"https://colab.research.google.com/assets/colab-badge.svg\" alt=\"Open In Colab\"/></a>"
      ]
    },
    {
      "cell_type": "markdown",
      "metadata": {
        "id": "5cOLM_nAIsoc"
      },
      "source": [
        "##    GOLDEN PROJECT       "
      ]
    },
    {
      "cell_type": "markdown",
      "metadata": {
        "id": "R5049cezA77T"
      },
      "source": [
        "Consider a question of finding the sum of N numbers inputted from the user. \n",
        "Input a number N. \n",
        "Input N numbers separated by a single space in a line. \n"
      ]
    },
    {
      "cell_type": "code",
      "metadata": {
        "id": "DOFGrjmHI4nI",
        "colab": {
          "base_uri": "https://localhost:8080/",
          "height": 68
        },
        "outputId": "48a723d0-41d4-4888-ac5d-246b5143d9fb"
      },
      "source": [
        "n = int(input())\n",
        "answer = 1\n",
        "arr = [int(i) for i in input().split()]\n",
        "for i in arr:\n",
        "  answer = (answer*i)%(10**9+7)\n",
        "print(answer)"
      ],
      "execution_count": null,
      "outputs": [
        {
          "output_type": "stream",
          "text": [
            "5\n",
            "1 2 3 4 5\n",
            "120\n"
          ],
          "name": "stdout"
        }
      ]
    },
    {
      "cell_type": "code",
      "metadata": {
        "id": "o--V8Sj3Jt_0"
      },
      "source": [
        ""
      ],
      "execution_count": null,
      "outputs": []
    }
  ]
}